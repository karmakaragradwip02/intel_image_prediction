{
 "cells": [
  {
   "cell_type": "code",
   "execution_count": 1,
   "metadata": {},
   "outputs": [
    {
     "data": {
      "text/plain": [
       "'e:\\\\Deep Learning\\\\pytorch\\\\intel_image_prediction'"
      ]
     },
     "execution_count": 1,
     "metadata": {},
     "output_type": "execute_result"
    }
   ],
   "source": [
    "import os\n",
    "os.chdir(\"../\")\n",
    "%pwd"
   ]
  },
  {
   "cell_type": "code",
   "execution_count": 2,
   "metadata": {},
   "outputs": [],
   "source": [
    "import mlflow\n",
    "MLFLOW_TRACKING_URI = \"https://dagshub.com/karmakaragradwip02/intel_image_prediction.mlflow\"\n",
    "os.environ['MLFLOW_TRACKING_URI'] = MLFLOW_TRACKING_URI\n",
    "os.environ['MLFLOW_TRACKING_USERNAME'] = 'karmakaragradwip02'\n",
    "os.environ['MLFLOW_TRACKING_PASSWORD'] = '9ccb0f28354fcca6469017b32544fa0704b9c343'\n",
    "\n",
    "mlflow.set_tracking_uri(MLFLOW_TRACKING_URI)"
   ]
  },
  {
   "cell_type": "code",
   "execution_count": 3,
   "metadata": {},
   "outputs": [],
   "source": [
    "from pathlib import Path\n",
    "from dataclasses import dataclass\n",
    "\n",
    "@dataclass(frozen= True)\n",
    "class ModelEvaluationConfig:\n",
    "    root_dir: Path\n",
    "    trained_model_dir: Path\n",
    "    test_dir: Path\n",
    "    history_dir: Path\n",
    "    graph_dir: Path\n",
    "    mlflow_uri: str\n",
    "    all_params: dict\n",
    "    epochs: int\n",
    "    classes: int"
   ]
  },
  {
   "cell_type": "code",
   "execution_count": 4,
   "metadata": {},
   "outputs": [],
   "source": [
    "import mlflow.pytorch\n",
    "import torch\n",
    "import json\n",
    "import numpy as np\n",
    "from urllib.parse import urlparse\n",
    "from sklearn.metrics import precision_score, recall_score, accuracy_score, f1_score, cohen_kappa_score"
   ]
  },
  {
   "cell_type": "code",
   "execution_count": 5,
   "metadata": {},
   "outputs": [],
   "source": [
    "from src.Intel_image_prediction.constants import *\n",
    "from src.Intel_image_prediction.utils.common import read_yaml, create_directories, save_json"
   ]
  },
  {
   "cell_type": "code",
   "execution_count": 6,
   "metadata": {},
   "outputs": [],
   "source": [
    "class ConfigureationManager:\n",
    "    def __init__(self,\n",
    "            config_filepath = CONFIG_FILE_PATH,\n",
    "            params_filepath = PARAMS_FILE_PATH):\n",
    "        \n",
    "        self.config = read_yaml(config_filepath)\n",
    "        self.params = read_yaml(params_filepath)\n",
    "\n",
    "        create_directories([self.config.artifacts_root])\n",
    "\n",
    "    def get_model_evaluation_config(self) -> ModelEvaluationConfig:\n",
    "        config = self.config.model_evaluation\n",
    "\n",
    "        create_directories([config.root_dir])\n",
    "\n",
    "        model_evaluation_config = ModelEvaluationConfig(\n",
    "            root_dir = Path(config.root_dir),\n",
    "            trained_model_dir = Path(config.trained_model_dir),\n",
    "            history_dir= Path(config.history_dir),\n",
    "            graph_dir = Path(config.graph_dir),\n",
    "            test_dir= Path(config.test_dir),\n",
    "            mlflow_uri=\"https://dagshub.com/karmakaragradwip02/intel_image_prediction.mlflow\",\n",
    "            all_params=self.params,\n",
    "            epochs = self.params.epochs,\n",
    "            classes = self.params.classes\n",
    "        )\n",
    "\n",
    "        return model_evaluation_config"
   ]
  },
  {
   "cell_type": "code",
   "execution_count": 7,
   "metadata": {},
   "outputs": [],
   "source": [
    "import torch\n",
    "import torch.nn as nn\n",
    "import torchvision.transforms as transforms\n",
    "import torchvision\n",
    "from torch.utils.data import DataLoader\n",
    "from pathlib import Path\n",
    "import json\n",
    "import numpy as np\n",
    "import mlflow\n",
    "from sklearn.metrics import precision_score, recall_score, accuracy_score, f1_score, cohen_kappa_score\n",
    "from urllib.parse import urlparse\n",
    "\n",
    "class ModelEvaluation:\n",
    "    def __init__(self, config):\n",
    "        self.config = config\n",
    "\n",
    "    def model(self):\n",
    "        cnn = nn.Sequential(\n",
    "            nn.Conv2d(3, 32, kernel_size=3, stride=1, padding=1),\n",
    "            nn.ReLU(),\n",
    "            nn.MaxPool2d(kernel_size=2, stride=2),\n",
    "            nn.Conv2d(32, 64, kernel_size=3, stride=1, padding=1),\n",
    "            nn.ReLU(),\n",
    "            nn.MaxPool2d(kernel_size=2, stride=2),\n",
    "            nn.Flatten(),\n",
    "            nn.Linear(64 * 37 * 37, 512),\n",
    "            nn.ReLU(),\n",
    "            nn.Linear(512, self.config.classes)\n",
    "        )\n",
    "        return cnn\n",
    "    \n",
    "    def define_transforms(self):\n",
    "        transformer = transforms.Compose([\n",
    "            transforms.Resize((150, 150)),\n",
    "            transforms.RandomHorizontalFlip(),\n",
    "            transforms.ToTensor(), \n",
    "            transforms.Normalize([0.5, 0.5, 0.5],\n",
    "                                [0.5, 0.5, 0.5])\n",
    "        ])\n",
    "        return transformer\n",
    "    \n",
    "    def data_loader(self, transformer):\n",
    "        test_loader = DataLoader(\n",
    "            torchvision.datasets.ImageFolder(self.config.test_dir, transform=transformer),\n",
    "            batch_size=16, shuffle=True\n",
    "        )\n",
    "        return test_loader\n",
    "\n",
    "    def load_model(self, model):\n",
    "        model_dir = Path(self.config.trained_model_dir)\n",
    "        device = torch.device('cuda' if torch.cuda.is_available() else 'cpu')\n",
    "        model.load_state_dict(torch.load(model_dir, map_location=device))\n",
    "        return model\n",
    "    \n",
    "    def evaluate_model(self, model, test_loader):\n",
    "        model.eval()\n",
    "        device = torch.device('cuda' if torch.cuda.is_available() else 'cpu')\n",
    "        model.to(device)\n",
    "        \n",
    "        y_true = []\n",
    "        y_pred = []\n",
    "        \n",
    "        with torch.no_grad():\n",
    "            for images, labels in test_loader:\n",
    "                images, labels = images.to(device), labels.to(device)\n",
    "                outputs = model(images)\n",
    "                _, predicted = torch.max(outputs.data, 1)\n",
    "                y_true.extend(labels.cpu().numpy())\n",
    "                y_pred.extend(predicted.cpu().numpy())\n",
    "        \n",
    "        return np.array(y_true), np.array(y_pred)\n",
    "    \n",
    "    def log_into_mlflow(self, model, test_loader):\n",
    "        mlflow.set_registry_uri(self.config.mlflow_uri)\n",
    "        tracking_url_type_store = urlparse(mlflow.get_tracking_uri()).scheme\n",
    "        \n",
    "        # Read and parse the history data\n",
    "        history_path = Path(self.config.history_dir)\n",
    "        if history_path.is_file():\n",
    "            with history_path.open('r') as f:\n",
    "                history_data = json.load(f)\n",
    "                \n",
    "            # Log each epoch's metrics individually\n",
    "            with mlflow.start_run():\n",
    "                mlflow.log_params(self.config.all_params)\n",
    "                y_true, y_pred = self.evaluate_model(model, test_loader)\n",
    "\n",
    "                # Calculate precision and recall\n",
    "                precision = precision_score(y_true, y_pred, average='macro', zero_division=1)\n",
    "                recall = recall_score(y_true, y_pred, average='macro')\n",
    "                m_accuracy = accuracy_score(y_true, y_pred)\n",
    "                f1 = f1_score(y_true, y_pred, average='macro')\n",
    "                kappa = cohen_kappa_score(y_true, y_pred)\n",
    "                \n",
    "                # Log metrics\n",
    "                mlflow.log_metric('Model Accuracy', m_accuracy)\n",
    "                mlflow.log_metric('Model Precision', precision)\n",
    "                mlflow.log_metric('Model Recall', recall)\n",
    "                mlflow.log_metric('Model F1 Score', f1)\n",
    "                mlflow.log_metric('Model Kappa', kappa)\n",
    "\n",
    "                for epoch in range(len(history_data.get(\"loss\", []))):\n",
    "                    mlflow.log_metric(\"train_loss\", history_data[\"train_loss\"][epoch], step=epoch)\n",
    "                    mlflow.log_metric(\"train_accuracy\", history_data[\"train_accuracy\"][epoch], step=epoch)\n",
    "                    mlflow.log_metric(\"val_loss\", history_data[\"val_loss\"][epoch], step=epoch)\n",
    "                    mlflow.log_metric(\"val_accuracy\", history_data[\"val_accuracy\"][epoch], step=epoch)\n",
    "                if tracking_url_type_store != \"file\":\n",
    "                    mlflow.pytorch.log_model(model, \"model\", registered_model_name=\"custom_model\")\n",
    "                else:\n",
    "                    mlflow.pytorch.log_model(model, \"model\")"
   ]
  },
  {
   "cell_type": "code",
   "execution_count": 8,
   "metadata": {},
   "outputs": [
    {
     "name": "stdout",
     "output_type": "stream",
     "text": [
      "[2024-07-27 19:16:57,758: INFO: common: yaml file: config\\config.yaml loaded successfully]\n",
      "[2024-07-27 19:16:57,777: INFO: common: yaml file: params.yaml loaded successfully]\n",
      "[2024-07-27 19:16:57,778: INFO: common: created directory at: artifacts]\n",
      "[2024-07-27 19:16:57,779: INFO: common: created directory at: artifacts/evaluation]\n"
     ]
    },
    {
     "name": "stderr",
     "output_type": "stream",
     "text": [
      "C:\\Users\\Karma\\AppData\\Local\\Temp\\ipykernel_13428\\3885856305.py:52: FutureWarning: You are using `torch.load` with `weights_only=False` (the current default value), which uses the default pickle module implicitly. It is possible to construct malicious pickle data which will execute arbitrary code during unpickling (See https://github.com/pytorch/pytorch/blob/main/SECURITY.md#untrusted-models for more details). In a future release, the default value for `weights_only` will be flipped to `True`. This limits the functions that could be executed during unpickling. Arbitrary objects will no longer be allowed to be loaded via this mode unless they are explicitly allowlisted by the user via `torch.serialization.add_safe_globals`. We recommend you start setting `weights_only=True` for any use case where you don't have full control of the loaded file. Please open an issue on GitHub for any issues related to this experimental feature.\n",
      "  model.load_state_dict(torch.load(model_dir, map_location=device))\n",
      "2024/07/27 19:17:18 WARNING mlflow.utils.requirements_utils: Found torch version (2.4.0+cu118) contains a local version label (+cu118). MLflow logged a pip requirement for this package as 'torch==2.4.0' without the local version label to make it installable from PyPI. To specify pip requirements containing local version labels, please use `conda_env` or `pip_requirements`.\n",
      "2024/07/27 19:17:35 WARNING mlflow.utils.requirements_utils: Found torch version (2.4.0+cu118) contains a local version label (+cu118). MLflow logged a pip requirement for this package as 'torch==2.4.0' without the local version label to make it installable from PyPI. To specify pip requirements containing local version labels, please use `conda_env` or `pip_requirements`.\n",
      "c:\\Users\\Karma\\anaconda3\\envs\\intel_img\\lib\\site-packages\\_distutils_hack\\__init__.py:32: UserWarning: Setuptools is replacing distutils. Support for replacing an already imported distutils is deprecated. In the future, this condition will fail. Register concerns at https://github.com/pypa/setuptools/issues/new?template=distutils-deprecation.yml\n",
      "  warnings.warn(\n",
      "Successfully registered model 'custom_model'.\n",
      "2024/07/27 19:20:27 INFO mlflow.tracking._model_registry.client: Waiting up to 300 seconds for model version to finish creation.                     Model name: custom_model, version 1\n",
      "Created version '1' of model 'custom_model'.\n"
     ]
    }
   ],
   "source": [
    "try:\n",
    "    config = ConfigureationManager()\n",
    "    model_evaluation_config = config.get_model_evaluation_config()\n",
    "    model_evaluation = ModelEvaluation(model_evaluation_config)\n",
    "    cnn = model_evaluation.model()\n",
    "    transformer = model_evaluation.define_transforms()\n",
    "    test_loader = model_evaluation.data_loader(transformer)\n",
    "    model = model_evaluation.load_model(cnn)\n",
    "    model_evaluation.log_into_mlflow(model, test_loader)\n",
    "except Exception as e:\n",
    "    raise e"
   ]
  }
 ],
 "metadata": {
  "kernelspec": {
   "display_name": "intel_img",
   "language": "python",
   "name": "python3"
  },
  "language_info": {
   "codemirror_mode": {
    "name": "ipython",
    "version": 3
   },
   "file_extension": ".py",
   "mimetype": "text/x-python",
   "name": "python",
   "nbconvert_exporter": "python",
   "pygments_lexer": "ipython3",
   "version": "3.8.19"
  }
 },
 "nbformat": 4,
 "nbformat_minor": 2
}
