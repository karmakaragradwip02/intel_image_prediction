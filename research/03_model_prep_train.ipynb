{
 "cells": [
  {
   "cell_type": "code",
   "execution_count": 1,
   "metadata": {},
   "outputs": [
    {
     "data": {
      "text/plain": [
       "'e:\\\\Deep Learning\\\\pytorch\\\\intel_image_prediction'"
      ]
     },
     "execution_count": 1,
     "metadata": {},
     "output_type": "execute_result"
    }
   ],
   "source": [
    "import os\n",
    "os.chdir('../')\n",
    "%pwd"
   ]
  },
  {
   "cell_type": "code",
   "execution_count": 2,
   "metadata": {},
   "outputs": [],
   "source": [
    "from pathlib import Path\n",
    "from dataclasses import dataclass\n",
    "\n",
    "@dataclass(frozen= True)\n",
    "class ModelPreparationTrainingConfig:\n",
    "    root_dir: Path\n",
    "    model_dir: Path\n",
    "    learning_rate: float\n",
    "    classes: int\n",
    "    epochs: int\n",
    "    weight_decay: float"
   ]
  },
  {
   "cell_type": "code",
   "execution_count": 3,
   "metadata": {},
   "outputs": [],
   "source": [
    "from src.Intel_image_prediction.constants import *\n",
    "from src.Intel_image_prediction.utils.common import read_yaml, create_directories"
   ]
  },
  {
   "cell_type": "code",
   "execution_count": 4,
   "metadata": {},
   "outputs": [],
   "source": [
    "class ConfigureationManager:\n",
    "    def __init__(self,\n",
    "            config_filepath = CONFIG_FILE_PATH,\n",
    "            params_filepath = PARAMS_FILE_PATH):\n",
    "        \n",
    "        self.config = read_yaml(config_filepath)\n",
    "        self.params = read_yaml(params_filepath)\n",
    "\n",
    "        create_directories([self.config.artifacts_root])\n",
    "\n",
    "    def get_model_prep_train_config(self) -> ModelPreparationTrainingConfig:\n",
    "        config = self.config.model_preparation\n",
    "\n",
    "        create_directories([config.root_dir])\n",
    "\n",
    "        model_prep_train_config = ModelPreparationTrainingConfig(\n",
    "            root_dir = config.root_dir,\n",
    "            model_dir = config.model_dir,\n",
    "            classes = config.classes,\n",
    "            learning_rate = config.learning_rate,\n",
    "            epochs = config.epochs,\n",
    "            weight_decay = config.weight_decay\n",
    "        )\n",
    "\n",
    "        return model_prep_train_config"
   ]
  }
 ],
 "metadata": {
  "kernelspec": {
   "display_name": "intel_img",
   "language": "python",
   "name": "python3"
  },
  "language_info": {
   "codemirror_mode": {
    "name": "ipython",
    "version": 3
   },
   "file_extension": ".py",
   "mimetype": "text/x-python",
   "name": "python",
   "nbconvert_exporter": "python",
   "pygments_lexer": "ipython3",
   "version": "3.8.19"
  }
 },
 "nbformat": 4,
 "nbformat_minor": 2
}
