{
  "nbformat": 4,
  "nbformat_minor": 0,
  "metadata": {
    "colab": {
      "provenance": []
    },
    "kernelspec": {
      "name": "python3",
      "display_name": "Python 3"
    },
    "language_info": {
      "name": "python"
    }
  },
  "cells": [
    {
      "cell_type": "code",
      "execution_count": 4,
      "metadata": {
        "colab": {
          "base_uri": "https://localhost:8080/"
        },
        "id": "COYVsOstj89o",
        "outputId": "159d68f3-aa2a-4bcb-e2c1-d9c6b05d2011"
      },
      "outputs": [
        {
          "output_type": "stream",
          "name": "stdout",
          "text": [
            "Requirement already satisfied: torchsummary in /usr/local/lib/python3.10/dist-packages (1.5.1)\n"
          ]
        }
      ],
      "source": [
        "!pip install torchsummary"
      ]
    },
    {
      "cell_type": "code",
      "source": [
        "import torch\n",
        "import torch.nn as nn\n",
        "from torchsummary import summary\n",
        "\n",
        "class YourModelClass:\n",
        "    def __init__(self, config):\n",
        "        self.config = config\n",
        "\n",
        "    def model(self):\n",
        "        cnn = nn.Sequential(\n",
        "            nn.Conv2d(3, 64, kernel_size=3, stride=1, padding=1),\n",
        "            nn.BatchNorm2d(64),\n",
        "            nn.ReLU(),\n",
        "            nn.MaxPool2d(kernel_size=2, stride=2),  # Output: (64, 75, 75)\n",
        "\n",
        "            nn.Conv2d(64, 128, kernel_size=3, stride=1, padding=1),\n",
        "            nn.BatchNorm2d(128),\n",
        "            nn.ReLU(),\n",
        "            nn.MaxPool2d(kernel_size=2, stride=2),  # Output: (128, 37, 37)\n",
        "\n",
        "            nn.Conv2d(128, 256, kernel_size=3, stride=1, padding=1),\n",
        "            nn.BatchNorm2d(256),\n",
        "            nn.ReLU(),\n",
        "            nn.MaxPool2d(kernel_size=2, stride=2),  # Output: (256, 18, 18)\n",
        "\n",
        "            nn.Conv2d(256, 512, kernel_size=3, stride=1, padding=1),\n",
        "            nn.BatchNorm2d(512),\n",
        "            nn.ReLU(),\n",
        "            nn.MaxPool2d(kernel_size=2, stride=2),  # Output: (512, 9, 9)\n",
        "\n",
        "            nn.Conv2d(512, 1024, kernel_size=3, stride=1, padding=1),\n",
        "            nn.BatchNorm2d(1024),\n",
        "            nn.ReLU(),\n",
        "            nn.MaxPool2d(kernel_size=2, stride=2),  # Output: (1024, 4, 4)\n",
        "\n",
        "            nn.Flatten()\n",
        "        )\n",
        "\n",
        "        # Assuming the input size is (3, 150, 150), the feature map size after the last MaxPool2d will be (1024, 4, 4)\n",
        "        # Calculating the number of features for the fully connected layer\n",
        "        num_features = 1024 * 4 * 4\n",
        "\n",
        "        fc_layers = nn.Sequential(\n",
        "            nn.Linear(num_features, 512),  # Adjusted to 512 units\n",
        "            nn.ReLU(),\n",
        "            nn.Linear(512, self.config.classes)\n",
        "        )\n",
        "\n",
        "        model = nn.Sequential(\n",
        "            cnn,\n",
        "            fc_layers\n",
        "        )\n",
        "\n",
        "        # Freezing the layers\n",
        "        for param in model.parameters():\n",
        "            param.requires_grad = False\n",
        "\n",
        "        # Unfreezing layers to match the target of 5,768,454 trainable params\n",
        "        # Unfreezing the last 5 convolutional layers and the fully connected layers\n",
        "        for layer in model[0][-5:]:\n",
        "            for param in layer.parameters():\n",
        "                param.requires_grad = True\n",
        "\n",
        "        for param in model[1].parameters():\n",
        "            param.requires_grad = True\n",
        "\n",
        "        return model\n",
        "\n",
        "    def print_summary(self, input_size):\n",
        "        model = self.model()\n",
        "        summary(model, input_size)\n",
        "\n",
        "# Example configuration\n",
        "class Config:\n",
        "    def __init__(self):\n",
        "        self.classes = 10  # Example number of classes\n",
        "        self.epsilon = 1e-8  # Epsilon for numerical stability\n",
        "        self.learning_rate = 1e-3  # Learning rate\n",
        "        self.weight_decay = 1e-5  # Weight decay for regularization\n",
        "        self.decay_rate = 0.1  # Decay rate for learning rate\n",
        "\n",
        "# Example usage\n",
        "config = Config()\n",
        "model_instance = YourModelClass(config)\n",
        "model_instance.print_summary((3, 150, 150))  # Example input size (3 channels, 150x150 image)"
      ],
      "metadata": {
        "colab": {
          "base_uri": "https://localhost:8080/"
        },
        "id": "d5tIHyHbkEMU",
        "outputId": "b1d77ac1-803f-4f45-de50-4c5d986f778e"
      },
      "execution_count": 7,
      "outputs": [
        {
          "output_type": "stream",
          "name": "stdout",
          "text": [
            "----------------------------------------------------------------\n",
            "        Layer (type)               Output Shape         Param #\n",
            "================================================================\n",
            "            Conv2d-1         [-1, 64, 150, 150]           1,792\n",
            "       BatchNorm2d-2         [-1, 64, 150, 150]             128\n",
            "              ReLU-3         [-1, 64, 150, 150]               0\n",
            "         MaxPool2d-4           [-1, 64, 75, 75]               0\n",
            "            Conv2d-5          [-1, 128, 75, 75]          73,856\n",
            "       BatchNorm2d-6          [-1, 128, 75, 75]             256\n",
            "              ReLU-7          [-1, 128, 75, 75]               0\n",
            "         MaxPool2d-8          [-1, 128, 37, 37]               0\n",
            "            Conv2d-9          [-1, 256, 37, 37]         295,168\n",
            "      BatchNorm2d-10          [-1, 256, 37, 37]             512\n",
            "             ReLU-11          [-1, 256, 37, 37]               0\n",
            "        MaxPool2d-12          [-1, 256, 18, 18]               0\n",
            "           Conv2d-13          [-1, 512, 18, 18]       1,180,160\n",
            "      BatchNorm2d-14          [-1, 512, 18, 18]           1,024\n",
            "             ReLU-15          [-1, 512, 18, 18]               0\n",
            "        MaxPool2d-16            [-1, 512, 9, 9]               0\n",
            "           Conv2d-17           [-1, 1024, 9, 9]       4,719,616\n",
            "      BatchNorm2d-18           [-1, 1024, 9, 9]           2,048\n",
            "             ReLU-19           [-1, 1024, 9, 9]               0\n",
            "        MaxPool2d-20           [-1, 1024, 4, 4]               0\n",
            "          Flatten-21                [-1, 16384]               0\n",
            "           Linear-22                  [-1, 512]       8,389,120\n",
            "             ReLU-23                  [-1, 512]               0\n",
            "           Linear-24                   [-1, 10]           5,130\n",
            "================================================================\n",
            "Total params: 14,668,810\n",
            "Trainable params: 13,115,914\n",
            "Non-trainable params: 1,552,896\n",
            "----------------------------------------------------------------\n",
            "Input size (MB): 0.26\n",
            "Forward/backward pass size (MB): 68.45\n",
            "Params size (MB): 55.96\n",
            "Estimated Total Size (MB): 124.66\n",
            "----------------------------------------------------------------\n"
          ]
        }
      ]
    }
  ]
}